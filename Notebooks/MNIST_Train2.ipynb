{
 "cells": [
  {
   "cell_type": "code",
   "execution_count": 1,
   "metadata": {},
   "outputs": [],
   "source": [
    "import torch\n",
    "import torch.nn as nn\n",
    "import torch.optim as optim\n",
    "from torchvision import datasets, transforms\n",
    "from torch.utils.data import DataLoader\n",
    "import torch.nn.functional as F\n",
    "from tqdm import tqdm\n",
    "import matplotlib.pyplot as plt\n",
    "from torchsummary import summary"
   ]
  },
  {
   "cell_type": "markdown",
   "metadata": {},
   "source": [
    "### Model Hyperparameters"
   ]
  },
  {
   "cell_type": "code",
   "execution_count": 2,
   "metadata": {},
   "outputs": [],
   "source": [
    "# Hyperparameters class for easy tuning\n",
    "class HyperParameters:\n",
    "    def __init__(self):\n",
    "        self.num_epochs = 10\n",
    "        self.batch_size = 64\n",
    "        self.learning_rate = 0.001\n",
    "        self.dropout_rate = 0.25\n",
    "        self.num_classes = 10\n",
    "        self.momentum = 0.9\n",
    "        self.random_seed = 42"
   ]
  },
  {
   "cell_type": "markdown",
   "metadata": {},
   "source": [
    "### Model"
   ]
  },
  {
   "cell_type": "code",
   "execution_count": null,
   "metadata": {},
   "outputs": [],
   "source": [
    "# Model-1\n",
    "# CNN Model Definition\n",
    "class TinyCNN(nn.Module):\n",
    "    def __init__(self, dropout_rate):\n",
    "        super(TinyCNN, self).__init__()\n",
    "        self.conv1 = nn.Conv2d(1, 16, kernel_size=3, padding=1)  # 8x28x28\n",
    "        self.conv2 = nn.Conv2d(16, 32, kernel_size=3, padding=1)  # 16x14x14\n",
    "        self.fc1 = nn.Linear(32 * 7 * 7, 10)\n",
    "        \n",
    "    def forward(self, x):\n",
    "        x = F.relu(self.conv1(x))\n",
    "        x = F.max_pool2d(x, 2)  # 8x14x14\n",
    "        x = F.relu(self.conv2(x))\n",
    "        x = F.max_pool2d(x, 2)  # 16x7x7\n",
    "        x = x.view(-1, 32 * 7 * 7)\n",
    "        x = self.fc1(x)\n",
    "        return F.log_softmax(x, dim=1)"
   ]
  },
  {
   "cell_type": "code",
   "execution_count": 8,
   "metadata": {},
   "outputs": [],
   "source": [
    "# model-2\n",
    "# CNN Model Definition\n",
    "class TinyCNN(nn.Module):\n",
    "    def __init__(self, dropout_rate):\n",
    "        super(TinyCNN, self).__init__()\n",
    "        \n",
    "        # First Convolutional Block - reduced filters from 16 to 8\n",
    "        self.conv1 = nn.Sequential(\n",
    "            nn.Conv2d(1, 8, kernel_size=3, padding=1),\n",
    "            nn.BatchNorm2d(8),\n",
    "            nn.ReLU(),\n",
    "            nn.MaxPool2d(2)\n",
    "        )\n",
    "        \n",
    "        # Second Convolutional Block - reduced filters from 32 to 16\n",
    "        self.conv2 = nn.Sequential(\n",
    "            nn.Conv2d(8, 16, kernel_size=3, padding=1),\n",
    "            nn.BatchNorm2d(16),\n",
    "            nn.ReLU(),\n",
    "            nn.MaxPool2d(2)\n",
    "        )\n",
    "        \n",
    "        # Fully Connected Layers - reduced hidden layer from 128 to 64\n",
    "        self.fc = nn.Sequential(\n",
    "            nn.Dropout(dropout_rate),\n",
    "            nn.Linear(16 * 7 * 7, 32),  # Changed from 32*7*7, 128 to 16*7*7, 64\n",
    "            nn.ReLU(),\n",
    "            nn.Dropout(dropout_rate),\n",
    "            nn.Linear(32, 10)  # Changed from 128, 10 to 64, 10\n",
    "        )\n",
    "\n",
    "    def forward(self, x):\n",
    "        x = self.conv1(x)\n",
    "        x = self.conv2(x)\n",
    "        x = x.view(x.size(0), -1)\n",
    "        x = self.fc(x)\n",
    "        return x"
   ]
  },
  {
   "cell_type": "markdown",
   "metadata": {},
   "source": [
    "### Train Function"
   ]
  },
  {
   "cell_type": "code",
   "execution_count": 4,
   "metadata": {},
   "outputs": [],
   "source": [
    "def train_model(params):\n",
    "    # Set random seed for reproducibility\n",
    "    torch.manual_seed(params.random_seed)\n",
    "    \n",
    "    # Data transformations\n",
    "    transform = transforms.Compose([\n",
    "        transforms.ToTensor(),\n",
    "        transforms.Normalize((0.1307,), (0.3081,))\n",
    "    ])\n",
    "    \n",
    "    # Load MNIST dataset\n",
    "    train_dataset = datasets.MNIST('./data', train=True, download=True, transform=transform)\n",
    "    test_dataset = datasets.MNIST('./data', train=False, transform=transform)\n",
    "    \n",
    "    # Create data loaders\n",
    "    train_loader = DataLoader(train_dataset, batch_size=params.batch_size, shuffle=True)\n",
    "    test_loader = DataLoader(test_dataset, batch_size=params.batch_size, shuffle=False)\n",
    "    \n",
    "    # Initialize model, loss function, and optimizer\n",
    "    device = torch.device('cuda' if torch.cuda.is_available() else 'cpu')\n",
    "    model = TinyCNN(params.dropout_rate).to(device)\n",
    "    \n",
    "    # Print model summary\n",
    "    print(\"\\nModel Summary:\")\n",
    "    summary(model, input_size=(1, 28, 28))\n",
    "    print(\"\\nStarting Training...\\n\")\n",
    "    \n",
    "    criterion = nn.CrossEntropyLoss()\n",
    "    optimizer = optim.Adam(model.parameters(), lr=params.learning_rate)\n",
    "    \n",
    "    # Lists to store metrics\n",
    "    train_losses = []\n",
    "    train_accuracies = []\n",
    "    test_accuracies = []\n",
    "    \n",
    "    # Training loop\n",
    "    for epoch in range(params.num_epochs):\n",
    "        model.train()\n",
    "        running_loss = 0.0\n",
    "        correct = 0\n",
    "        total = 0\n",
    "        \n",
    "        # Training progress bar\n",
    "        progress_bar = tqdm(train_loader, desc=f'Epoch {epoch+1}/{params.num_epochs}')\n",
    "        \n",
    "        for images, labels in progress_bar:\n",
    "            images, labels = images.to(device), labels.to(device)\n",
    "            \n",
    "            optimizer.zero_grad()\n",
    "            outputs = model(images)\n",
    "            loss = criterion(outputs, labels)\n",
    "            loss.backward()\n",
    "            optimizer.step()\n",
    "            \n",
    "            running_loss += loss.item()\n",
    "            _, predicted = outputs.max(1)\n",
    "            total += labels.size(0)\n",
    "            correct += predicted.eq(labels).sum().item()\n",
    "            \n",
    "            # Update progress bar\n",
    "            progress_bar.set_postfix({\n",
    "                'loss': f'{running_loss/len(progress_bar):.3f}',\n",
    "                'acc': f'{100.*correct/total:.2f}%'\n",
    "            })\n",
    "        \n",
    "        # Calculate training metrics\n",
    "        epoch_loss = running_loss / len(train_loader)\n",
    "        train_accuracy = 100. * correct / total\n",
    "        train_losses.append(epoch_loss)\n",
    "        train_accuracies.append(train_accuracy)\n",
    "        \n",
    "        # Evaluate on test set\n",
    "        test_accuracy = evaluate_model(model, test_loader, device)\n",
    "        test_accuracies.append(test_accuracy)\n",
    "        \n",
    "        # Modified metrics printing\n",
    "        print(f'Epoch {epoch+1}/{params.num_epochs} - Loss: {epoch_loss:.4f}, Train Acc: {train_accuracy:.2f}%, Test Acc: {test_accuracy:.2f}%')\n",
    "    \n",
    "    return model, train_losses, train_accuracies, test_accuracies\n"
   ]
  },
  {
   "cell_type": "code",
   "execution_count": 5,
   "metadata": {},
   "outputs": [],
   "source": [
    "def evaluate_model(model, data_loader, device):\n",
    "    model.eval()\n",
    "    correct = 0\n",
    "    total = 0\n",
    "    \n",
    "    with torch.no_grad():\n",
    "        for images, labels in data_loader:\n",
    "            images, labels = images.to(device), labels.to(device)\n",
    "            outputs = model(images)\n",
    "            _, predicted = outputs.max(1)\n",
    "            total += labels.size(0)\n",
    "            correct += predicted.eq(labels).sum().item()\n",
    "    \n",
    "    return 100. * correct / total"
   ]
  },
  {
   "cell_type": "code",
   "execution_count": 6,
   "metadata": {},
   "outputs": [],
   "source": [
    "def plot_metrics(train_losses, train_accuracies, test_accuracies):\n",
    "    plt.figure(figsize=(12, 4))\n",
    "    \n",
    "    # Plot training loss\n",
    "    plt.subplot(1, 2, 1)\n",
    "    plt.plot(train_losses)\n",
    "    plt.title('Training Loss')\n",
    "    plt.xlabel('Epoch')\n",
    "    plt.ylabel('Loss')\n",
    "    \n",
    "    # Plot accuracies\n",
    "    plt.subplot(1, 2, 2)\n",
    "    plt.plot(train_accuracies, label='Train')\n",
    "    plt.plot(test_accuracies, label='Test')\n",
    "    plt.title('Model Accuracy')\n",
    "    plt.xlabel('Epoch')\n",
    "    plt.ylabel('Accuracy (%)')\n",
    "    plt.legend()\n",
    "    \n",
    "    plt.tight_layout()\n",
    "    plt.show()"
   ]
  },
  {
   "cell_type": "code",
   "execution_count": null,
   "metadata": {},
   "outputs": [
    {
     "name": "stdout",
     "output_type": "stream",
     "text": [
      "Downloading http://yann.lecun.com/exdb/mnist/train-images-idx3-ubyte.gz\n",
      "Failed to download (trying next):\n",
      "HTTP Error 403: Forbidden\n",
      "\n",
      "Downloading https://ossci-datasets.s3.amazonaws.com/mnist/train-images-idx3-ubyte.gz\n",
      "Downloading https://ossci-datasets.s3.amazonaws.com/mnist/train-images-idx3-ubyte.gz to ./data\\MNIST\\raw\\train-images-idx3-ubyte.gz\n"
     ]
    },
    {
     "name": "stderr",
     "output_type": "stream",
     "text": [
      "100%|██████████| 9.91M/9.91M [00:40<00:00, 247kB/s]\n"
     ]
    },
    {
     "name": "stdout",
     "output_type": "stream",
     "text": [
      "Extracting ./data\\MNIST\\raw\\train-images-idx3-ubyte.gz to ./data\\MNIST\\raw\n",
      "\n",
      "Downloading http://yann.lecun.com/exdb/mnist/train-labels-idx1-ubyte.gz\n",
      "Failed to download (trying next):\n",
      "HTTP Error 403: Forbidden\n",
      "\n",
      "Downloading https://ossci-datasets.s3.amazonaws.com/mnist/train-labels-idx1-ubyte.gz\n",
      "Downloading https://ossci-datasets.s3.amazonaws.com/mnist/train-labels-idx1-ubyte.gz to ./data\\MNIST\\raw\\train-labels-idx1-ubyte.gz\n"
     ]
    },
    {
     "name": "stderr",
     "output_type": "stream",
     "text": [
      "100%|██████████| 28.9k/28.9k [00:00<00:00, 79.4kB/s]\n"
     ]
    },
    {
     "name": "stdout",
     "output_type": "stream",
     "text": [
      "Extracting ./data\\MNIST\\raw\\train-labels-idx1-ubyte.gz to ./data\\MNIST\\raw\n",
      "\n",
      "Downloading http://yann.lecun.com/exdb/mnist/t10k-images-idx3-ubyte.gz\n",
      "Failed to download (trying next):\n",
      "HTTP Error 403: Forbidden\n",
      "\n",
      "Downloading https://ossci-datasets.s3.amazonaws.com/mnist/t10k-images-idx3-ubyte.gz\n",
      "Downloading https://ossci-datasets.s3.amazonaws.com/mnist/t10k-images-idx3-ubyte.gz to ./data\\MNIST\\raw\\t10k-images-idx3-ubyte.gz\n"
     ]
    },
    {
     "name": "stderr",
     "output_type": "stream",
     "text": [
      "100%|██████████| 1.65M/1.65M [00:06<00:00, 250kB/s]\n"
     ]
    },
    {
     "name": "stdout",
     "output_type": "stream",
     "text": [
      "Extracting ./data\\MNIST\\raw\\t10k-images-idx3-ubyte.gz to ./data\\MNIST\\raw\n",
      "\n",
      "Downloading http://yann.lecun.com/exdb/mnist/t10k-labels-idx1-ubyte.gz\n",
      "Failed to download (trying next):\n",
      "HTTP Error 403: Forbidden\n",
      "\n",
      "Downloading https://ossci-datasets.s3.amazonaws.com/mnist/t10k-labels-idx1-ubyte.gz\n",
      "Downloading https://ossci-datasets.s3.amazonaws.com/mnist/t10k-labels-idx1-ubyte.gz to ./data\\MNIST\\raw\\t10k-labels-idx1-ubyte.gz\n"
     ]
    },
    {
     "name": "stderr",
     "output_type": "stream",
     "text": [
      "100%|██████████| 4.54k/4.54k [00:00<00:00, 4.44MB/s]\n"
     ]
    },
    {
     "name": "stdout",
     "output_type": "stream",
     "text": [
      "Extracting ./data\\MNIST\\raw\\t10k-labels-idx1-ubyte.gz to ./data\\MNIST\\raw\n",
      "\n",
      "\n",
      "Model Summary:\n",
      "----------------------------------------------------------------\n",
      "        Layer (type)               Output Shape         Param #\n",
      "================================================================\n",
      "            Conv2d-1           [-1, 16, 28, 28]             160\n",
      "            Conv2d-2           [-1, 32, 14, 14]           4,640\n",
      "            Linear-3                   [-1, 10]          15,690\n",
      "================================================================\n",
      "Total params: 20,490\n",
      "Trainable params: 20,490\n",
      "Non-trainable params: 0\n",
      "----------------------------------------------------------------\n",
      "Input size (MB): 0.00\n",
      "Forward/backward pass size (MB): 0.14\n",
      "Params size (MB): 0.08\n",
      "Estimated Total Size (MB): 0.22\n",
      "----------------------------------------------------------------\n",
      "\n",
      "Starting Training...\n",
      "\n"
     ]
    },
    {
     "name": "stderr",
     "output_type": "stream",
     "text": [
      "Epoch 1/10: 100%|██████████| 938/938 [00:36<00:00, 25.64it/s, loss=0.192, acc=94.29%]\n"
     ]
    },
    {
     "name": "stdout",
     "output_type": "stream",
     "text": [
      "Epoch 1/10 - Loss: 0.1917, Train Acc: 94.29%, Test Acc: 98.04%\n"
     ]
    },
    {
     "name": "stderr",
     "output_type": "stream",
     "text": [
      "Epoch 2/10: 100%|██████████| 938/938 [00:36<00:00, 25.73it/s, loss=0.059, acc=98.19%]\n"
     ]
    },
    {
     "name": "stdout",
     "output_type": "stream",
     "text": [
      "Epoch 2/10 - Loss: 0.0593, Train Acc: 98.19%, Test Acc: 98.64%\n"
     ]
    },
    {
     "name": "stderr",
     "output_type": "stream",
     "text": [
      "Epoch 3/10: 100%|██████████| 938/938 [00:38<00:00, 24.11it/s, loss=0.043, acc=98.67%]\n"
     ]
    },
    {
     "name": "stdout",
     "output_type": "stream",
     "text": [
      "Epoch 3/10 - Loss: 0.0431, Train Acc: 98.67%, Test Acc: 98.75%\n"
     ]
    },
    {
     "name": "stderr",
     "output_type": "stream",
     "text": [
      "Epoch 4/10: 100%|██████████| 938/938 [00:37<00:00, 24.80it/s, loss=0.037, acc=98.87%]\n"
     ]
    },
    {
     "name": "stdout",
     "output_type": "stream",
     "text": [
      "Epoch 4/10 - Loss: 0.0366, Train Acc: 98.87%, Test Acc: 98.87%\n"
     ]
    },
    {
     "name": "stderr",
     "output_type": "stream",
     "text": [
      "Epoch 5/10: 100%|██████████| 938/938 [00:38<00:00, 24.39it/s, loss=0.029, acc=99.11%]\n"
     ]
    },
    {
     "name": "stdout",
     "output_type": "stream",
     "text": [
      "Epoch 5/10 - Loss: 0.0287, Train Acc: 99.11%, Test Acc: 98.71%\n"
     ]
    },
    {
     "name": "stderr",
     "output_type": "stream",
     "text": [
      "Epoch 6/10: 100%|██████████| 938/938 [00:37<00:00, 25.12it/s, loss=0.025, acc=99.22%]\n"
     ]
    },
    {
     "name": "stdout",
     "output_type": "stream",
     "text": [
      "Epoch 6/10 - Loss: 0.0251, Train Acc: 99.22%, Test Acc: 98.76%\n"
     ]
    },
    {
     "name": "stderr",
     "output_type": "stream",
     "text": [
      "Epoch 7/10: 100%|██████████| 938/938 [00:36<00:00, 25.47it/s, loss=0.022, acc=99.30%]\n"
     ]
    },
    {
     "name": "stdout",
     "output_type": "stream",
     "text": [
      "Epoch 7/10 - Loss: 0.0215, Train Acc: 99.30%, Test Acc: 98.96%\n"
     ]
    },
    {
     "name": "stderr",
     "output_type": "stream",
     "text": [
      "Epoch 8/10: 100%|██████████| 938/938 [00:36<00:00, 25.88it/s, loss=0.018, acc=99.42%]\n"
     ]
    },
    {
     "name": "stdout",
     "output_type": "stream",
     "text": [
      "Epoch 8/10 - Loss: 0.0177, Train Acc: 99.42%, Test Acc: 99.01%\n"
     ]
    },
    {
     "name": "stderr",
     "output_type": "stream",
     "text": [
      "Epoch 9/10: 100%|██████████| 938/938 [00:36<00:00, 25.89it/s, loss=0.015, acc=99.50%]\n"
     ]
    },
    {
     "name": "stdout",
     "output_type": "stream",
     "text": [
      "Epoch 9/10 - Loss: 0.0149, Train Acc: 99.50%, Test Acc: 98.85%\n"
     ]
    },
    {
     "name": "stderr",
     "output_type": "stream",
     "text": [
      "Epoch 10/10: 100%|██████████| 938/938 [00:36<00:00, 25.53it/s, loss=0.014, acc=99.56%]\n"
     ]
    },
    {
     "name": "stdout",
     "output_type": "stream",
     "text": [
      "Epoch 10/10 - Loss: 0.0138, Train Acc: 99.56%, Test Acc: 98.87%\n"
     ]
    },
    {
     "data": {
      "image/png": "[encoded data removed]",
      "text/plain": [
       "<Figure size 1200x400 with 2 Axes>"
      ]
     },
     "metadata": {},
     "output_type": "display_data"
    },
    {
     "name": "stdout",
     "output_type": "stream",
     "text": [
      "\n",
      "Final Test Accuracy: 98.87%\n"
     ]
    }
   ],
   "source": [
    "# use model-1\n",
    "\n",
    "if __name__ == '__main__':\n",
    "    # Initialize hyperparameters\n",
    "    params = HyperParameters()\n",
    "    \n",
    "    # Train the model\n",
    "    model, train_losses, train_accuracies, test_accuracies = train_model(params)\n",
    "    \n",
    "    # Plot training metrics\n",
    "    plot_metrics(train_losses, train_accuracies, test_accuracies)\n",
    "    \n",
    "    # Final evaluation\n",
    "    device = torch.device('cuda' if torch.cuda.is_available() else 'cpu')\n",
    "    transform = transforms.Compose([\n",
    "        transforms.ToTensor(),\n",
    "        transforms.Normalize((0.1307,), (0.3081,))\n",
    "    ])\n",
    "    \n",
    "    test_dataset = datasets.MNIST('./data', train=False, transform=transform)\n",
    "    test_loader = DataLoader(test_dataset, batch_size=params.batch_size, shuffle=False)\n",
    "    \n",
    "    final_test_accuracy = evaluate_model(model, test_loader, device)\n",
    "    print(f'\\nFinal Test Accuracy: {final_test_accuracy:.2f}%') "
   ]
  },
  {
   "cell_type": "markdown",
   "metadata": {},
   "source": [
    "### How does changing the batch size affects model"
   ]
  },
  {
   "cell_type": "markdown",
   "metadata": {},
   "source": [
    "#### update Model Hyperparameters"
   ]
  },
  {
   "cell_type": "code",
   "execution_count": null,
   "metadata": {},
   "outputs": [],
   "source": [
    "# Hyperparameters class for easy tuning\n",
    "class HyperParameters:\n",
    "    def __init__(self):\n",
    "        self.num_epochs = 5\n",
    "        self.batch_sizes = [16, 32, 64, 128, 256]\n",
    "        # self.batch_size = 64\n",
    "        self.learning_rate = 0.001\n",
    "        self.dropout_rate = 0.25\n",
    "        self.num_classes = 10\n",
    "        self.momentum = 0.9\n",
    "        self.random_seed = 42\n"
   ]
  },
  {
   "cell_type": "code",
   "execution_count": 10,
   "metadata": {},
   "outputs": [],
   "source": [
    "def batch_size_analysis(params):\n",
    "    results = {}\n",
    "    \n",
    "    for batch_size in params.batch_sizes:\n",
    "        print(f\"\\nTesting batch size: {batch_size}\")\n",
    "        params.batch_size = batch_size\n",
    "        \n",
    "        # Train model with current batch size\n",
    "        model, train_losses, train_accuracies, test_accuracies = train_model(params)\n",
    "        \n",
    "        # Store results\n",
    "        results[batch_size] = {\n",
    "            'final_train_acc': train_accuracies[-1],\n",
    "            'final_test_acc': test_accuracies[-1],\n",
    "            'train_losses': train_losses,\n",
    "            'train_accuracies': train_accuracies,\n",
    "            'test_accuracies': test_accuracies\n",
    "        }\n",
    "    \n",
    "    # Plot comparison\n",
    "    plt.figure(figsize=(15, 5))\n",
    "    \n",
    "    # Plot training curves for different batch sizes\n",
    "    plt.subplot(1, 2, 1)\n",
    "    for batch_size in params.batch_sizes:\n",
    "        plt.plot(results[batch_size]['train_accuracies'], \n",
    "                label=f'Batch {batch_size}')\n",
    "    plt.title('Training Accuracy vs Epochs')\n",
    "    plt.xlabel('Epoch')\n",
    "    plt.ylabel('Accuracy (%)')\n",
    "    plt.legend()\n",
    "    \n",
    "    # Plot final accuracies vs batch size\n",
    "    plt.subplot(1, 2, 2)\n",
    "    batch_sizes = list(results.keys())\n",
    "    train_accs = [results[bs]['final_train_acc'] for bs in batch_sizes]\n",
    "    test_accs = [results[bs]['final_test_acc'] for bs in batch_sizes]\n",
    "    \n",
    "    plt.plot(batch_sizes, train_accs, 'o-', label='Train')\n",
    "    plt.plot(batch_sizes, test_accs, 'o-', label='Test')\n",
    "    plt.title('Final Accuracy vs Batch Size')\n",
    "    plt.xlabel('Batch Size')\n",
    "    plt.ylabel('Accuracy (%)')\n",
    "    plt.legend()\n",
    "    \n",
    "    plt.tight_layout()\n",
    "    plt.show()\n",
    "    \n",
    "    # Print summary\n",
    "    print(\"\\nSummary of results:\")\n",
    "    print(\"Batch Size | Train Acc | Test Acc\")\n",
    "    print(\"-\" * 35)\n",
    "    for batch_size in params.batch_sizes:\n",
    "        print(f\"{batch_size:^10d} | {results[batch_size]['final_train_acc']:^9.2f} | {results[batch_size]['final_test_acc']:^8.2f}\")"
   ]
  },
  {
   "cell_type": "code",
   "execution_count": 12,
   "metadata": {},
   "outputs": [
    {
     "name": "stdout",
     "output_type": "stream",
     "text": [
      "\n",
      "Testing batch size: 16\n",
      "\n",
      "Model Summary:\n",
      "----------------------------------------------------------------\n",
      "        Layer (type)               Output Shape         Param #\n",
      "================================================================\n",
      "            Conv2d-1            [-1, 8, 28, 28]              80\n",
      "       BatchNorm2d-2            [-1, 8, 28, 28]              16\n",
      "              ReLU-3            [-1, 8, 28, 28]               0\n",
      "         MaxPool2d-4            [-1, 8, 14, 14]               0\n",
      "            Conv2d-5           [-1, 16, 14, 14]           1,168\n",
      "       BatchNorm2d-6           [-1, 16, 14, 14]              32\n",
      "              ReLU-7           [-1, 16, 14, 14]               0\n",
      "         MaxPool2d-8             [-1, 16, 7, 7]               0\n",
      "           Dropout-9                  [-1, 784]               0\n",
      "           Linear-10                   [-1, 32]          25,120\n",
      "             ReLU-11                   [-1, 32]               0\n",
      "          Dropout-12                   [-1, 32]               0\n",
      "           Linear-13                   [-1, 10]             330\n",
      "================================================================\n",
      "Total params: 26,746\n",
      "Trainable params: 26,746\n",
      "Non-trainable params: 0\n",
      "----------------------------------------------------------------\n",
      "Input size (MB): 0.00\n",
      "Forward/backward pass size (MB): 0.24\n",
      "Params size (MB): 0.10\n",
      "Estimated Total Size (MB): 0.35\n",
      "----------------------------------------------------------------\n",
      "\n",
      "Starting Training...\n",
      "\n"
     ]
    },
    {
     "name": "stderr",
     "output_type": "stream",
     "text": [
      "Epoch 1/10: 100%|██████████| 3750/3750 [01:13<00:00, 51.11it/s, loss=0.291, acc=90.93%]\n"
     ]
    },
    {
     "name": "stdout",
     "output_type": "stream",
     "text": [
      "Epoch 1/10 - Loss: 0.2915, Train Acc: 90.93%, Test Acc: 97.62%\n"
     ]
    },
    {
     "name": "stderr",
     "output_type": "stream",
     "text": [
      "Epoch 2/10: 100%|██████████| 3750/3750 [01:11<00:00, 52.31it/s, loss=0.153, acc=95.31%]\n"
     ]
    },
    {
     "name": "stdout",
     "output_type": "stream",
     "text": [
      "Epoch 2/10 - Loss: 0.1535, Train Acc: 95.31%, Test Acc: 98.34%\n"
     ]
    },
    {
     "name": "stderr",
     "output_type": "stream",
     "text": [
      "Epoch 3/10: 100%|██████████| 3750/3750 [01:12<00:00, 51.84it/s, loss=0.124, acc=96.18%]\n"
     ]
    },
    {
     "name": "stdout",
     "output_type": "stream",
     "text": [
      "Epoch 3/10 - Loss: 0.1237, Train Acc: 96.18%, Test Acc: 98.46%\n"
     ]
    },
    {
     "name": "stderr",
     "output_type": "stream",
     "text": [
      "Epoch 4/10: 100%|██████████| 3750/3750 [01:13<00:00, 51.21it/s, loss=0.110, acc=96.60%]\n"
     ]
    },
    {
     "name": "stdout",
     "output_type": "stream",
     "text": [
      "Epoch 4/10 - Loss: 0.1102, Train Acc: 96.60%, Test Acc: 98.67%\n"
     ]
    },
    {
     "name": "stderr",
     "output_type": "stream",
     "text": [
      "Epoch 5/10: 100%|██████████| 3750/3750 [01:12<00:00, 51.85it/s, loss=0.100, acc=96.97%]\n"
     ]
    },
    {
     "name": "stdout",
     "output_type": "stream",
     "text": [
      "Epoch 5/10 - Loss: 0.0999, Train Acc: 96.97%, Test Acc: 98.57%\n"
     ]
    },
    {
     "name": "stderr",
     "output_type": "stream",
     "text": [
      "Epoch 6/10: 100%|██████████| 3750/3750 [01:11<00:00, 52.52it/s, loss=0.093, acc=97.24%]\n"
     ]
    },
    {
     "name": "stdout",
     "output_type": "stream",
     "text": [
      "Epoch 6/10 - Loss: 0.0926, Train Acc: 97.24%, Test Acc: 98.65%\n"
     ]
    },
    {
     "name": "stderr",
     "output_type": "stream",
     "text": [
      "Epoch 7/10: 100%|██████████| 3750/3750 [01:12<00:00, 51.95it/s, loss=0.086, acc=97.33%]\n"
     ]
    },
    {
     "name": "stdout",
     "output_type": "stream",
     "text": [
      "Epoch 7/10 - Loss: 0.0857, Train Acc: 97.33%, Test Acc: 98.77%\n"
     ]
    },
    {
     "name": "stderr",
     "output_type": "stream",
     "text": [
      "Epoch 8/10: 100%|██████████| 3750/3750 [01:10<00:00, 52.89it/s, loss=0.083, acc=97.48%]\n"
     ]
    },
    {
     "name": "stdout",
     "output_type": "stream",
     "text": [
      "Epoch 8/10 - Loss: 0.0826, Train Acc: 97.48%, Test Acc: 98.96%\n"
     ]
    },
    {
     "name": "stderr",
     "output_type": "stream",
     "text": [
      "Epoch 9/10: 100%|██████████| 3750/3750 [01:10<00:00, 52.98it/s, loss=0.078, acc=97.69%]\n"
     ]
    },
    {
     "name": "stdout",
     "output_type": "stream",
     "text": [
      "Epoch 9/10 - Loss: 0.0775, Train Acc: 97.69%, Test Acc: 98.80%\n"
     ]
    },
    {
     "name": "stderr",
     "output_type": "stream",
     "text": [
      "Epoch 10/10: 100%|██████████| 3750/3750 [01:10<00:00, 53.13it/s, loss=0.077, acc=97.59%]\n"
     ]
    },
    {
     "name": "stdout",
     "output_type": "stream",
     "text": [
      "Epoch 10/10 - Loss: 0.0771, Train Acc: 97.59%, Test Acc: 98.95%\n",
      "\n",
      "Testing batch size: 32\n",
      "\n",
      "Model Summary:\n",
      "----------------------------------------------------------------\n",
      "        Layer (type)               Output Shape         Param #\n",
      "================================================================\n",
      "            Conv2d-1            [-1, 8, 28, 28]              80\n",
      "       BatchNorm2d-2            [-1, 8, 28, 28]              16\n",
      "              ReLU-3            [-1, 8, 28, 28]               0\n",
      "         MaxPool2d-4            [-1, 8, 14, 14]               0\n",
      "            Conv2d-5           [-1, 16, 14, 14]           1,168\n",
      "       BatchNorm2d-6           [-1, 16, 14, 14]              32\n",
      "              ReLU-7           [-1, 16, 14, 14]               0\n",
      "         MaxPool2d-8             [-1, 16, 7, 7]               0\n",
      "           Dropout-9                  [-1, 784]               0\n",
      "           Linear-10                   [-1, 32]          25,120\n",
      "             ReLU-11                   [-1, 32]               0\n",
      "          Dropout-12                   [-1, 32]               0\n",
      "           Linear-13                   [-1, 10]             330\n",
      "================================================================\n",
      "Total params: 26,746\n",
      "Trainable params: 26,746\n",
      "Non-trainable params: 0\n",
      "----------------------------------------------------------------\n",
      "Input size (MB): 0.00\n",
      "Forward/backward pass size (MB): 0.24\n",
      "Params size (MB): 0.10\n",
      "Estimated Total Size (MB): 0.35\n",
      "----------------------------------------------------------------\n",
      "\n",
      "Starting Training...\n",
      "\n"
     ]
    },
    {
     "name": "stderr",
     "output_type": "stream",
     "text": [
      "Epoch 1/10: 100%|██████████| 1875/1875 [00:45<00:00, 40.84it/s, loss=0.355, acc=88.97%]\n"
     ]
    },
    {
     "name": "stdout",
     "output_type": "stream",
     "text": [
      "Epoch 1/10 - Loss: 0.3546, Train Acc: 88.97%, Test Acc: 97.32%\n"
     ]
    },
    {
     "name": "stderr",
     "output_type": "stream",
     "text": [
      "Epoch 2/10: 100%|██████████| 1875/1875 [00:45<00:00, 41.02it/s, loss=0.172, acc=94.70%]\n"
     ]
    },
    {
     "name": "stdout",
     "output_type": "stream",
     "text": [
      "Epoch 2/10 - Loss: 0.1720, Train Acc: 94.70%, Test Acc: 98.07%\n"
     ]
    },
    {
     "name": "stderr",
     "output_type": "stream",
     "text": [
      "Epoch 3/10: 100%|██████████| 1875/1875 [00:45<00:00, 41.03it/s, loss=0.142, acc=95.53%]\n"
     ]
    },
    {
     "name": "stdout",
     "output_type": "stream",
     "text": [
      "Epoch 3/10 - Loss: 0.1425, Train Acc: 95.53%, Test Acc: 98.34%\n"
     ]
    },
    {
     "name": "stderr",
     "output_type": "stream",
     "text": [
      "Epoch 4/10: 100%|██████████| 1875/1875 [26:19<00:00,  1.19it/s, loss=0.127, acc=96.12%]  \n"
     ]
    },
    {
     "name": "stdout",
     "output_type": "stream",
     "text": [
      "Epoch 4/10 - Loss: 0.1267, Train Acc: 96.12%, Test Acc: 98.57%\n"
     ]
    },
    {
     "name": "stderr",
     "output_type": "stream",
     "text": [
      "Epoch 5/10: 100%|██████████| 1875/1875 [00:47<00:00, 39.59it/s, loss=0.119, acc=96.29%]\n"
     ]
    },
    {
     "name": "stdout",
     "output_type": "stream",
     "text": [
      "Epoch 5/10 - Loss: 0.1190, Train Acc: 96.29%, Test Acc: 98.79%\n"
     ]
    },
    {
     "name": "stderr",
     "output_type": "stream",
     "text": [
      "Epoch 6/10: 100%|██████████| 1875/1875 [00:47<00:00, 39.68it/s, loss=0.108, acc=96.69%]\n"
     ]
    },
    {
     "name": "stdout",
     "output_type": "stream",
     "text": [
      "Epoch 6/10 - Loss: 0.1076, Train Acc: 96.69%, Test Acc: 98.68%\n"
     ]
    },
    {
     "name": "stderr",
     "output_type": "stream",
     "text": [
      "Epoch 7/10: 100%|██████████| 1875/1875 [00:47<00:00, 39.67it/s, loss=0.102, acc=96.85%]\n"
     ]
    },
    {
     "name": "stdout",
     "output_type": "stream",
     "text": [
      "Epoch 7/10 - Loss: 0.1018, Train Acc: 96.85%, Test Acc: 98.55%\n"
     ]
    },
    {
     "name": "stderr",
     "output_type": "stream",
     "text": [
      "Epoch 8/10: 100%|██████████| 1875/1875 [00:45<00:00, 41.65it/s, loss=0.099, acc=96.94%]\n"
     ]
    },
    {
     "name": "stdout",
     "output_type": "stream",
     "text": [
      "Epoch 8/10 - Loss: 0.0989, Train Acc: 96.94%, Test Acc: 98.71%\n"
     ]
    },
    {
     "name": "stderr",
     "output_type": "stream",
     "text": [
      "Epoch 9/10: 100%|██████████| 1875/1875 [00:47<00:00, 39.84it/s, loss=0.092, acc=97.09%]\n"
     ]
    },
    {
     "name": "stdout",
     "output_type": "stream",
     "text": [
      "Epoch 9/10 - Loss: 0.0921, Train Acc: 97.09%, Test Acc: 98.57%\n"
     ]
    },
    {
     "name": "stderr",
     "output_type": "stream",
     "text": [
      "Epoch 10/10: 100%|██████████| 1875/1875 [00:47<00:00, 39.89it/s, loss=0.091, acc=97.19%]\n"
     ]
    },
    {
     "name": "stdout",
     "output_type": "stream",
     "text": [
      "Epoch 10/10 - Loss: 0.0907, Train Acc: 97.19%, Test Acc: 98.90%\n",
      "\n",
      "Testing batch size: 64\n",
      "\n",
      "Model Summary:\n",
      "----------------------------------------------------------------\n",
      "        Layer (type)               Output Shape         Param #\n",
      "================================================================\n",
      "            Conv2d-1            [-1, 8, 28, 28]              80\n",
      "       BatchNorm2d-2            [-1, 8, 28, 28]              16\n",
      "              ReLU-3            [-1, 8, 28, 28]               0\n",
      "         MaxPool2d-4            [-1, 8, 14, 14]               0\n",
      "            Conv2d-5           [-1, 16, 14, 14]           1,168\n",
      "       BatchNorm2d-6           [-1, 16, 14, 14]              32\n",
      "              ReLU-7           [-1, 16, 14, 14]               0\n",
      "         MaxPool2d-8             [-1, 16, 7, 7]               0\n",
      "           Dropout-9                  [-1, 784]               0\n",
      "           Linear-10                   [-1, 32]          25,120\n",
      "             ReLU-11                   [-1, 32]               0\n",
      "          Dropout-12                   [-1, 32]               0\n",
      "           Linear-13                   [-1, 10]             330\n",
      "================================================================\n",
      "Total params: 26,746\n",
      "Trainable params: 26,746\n",
      "Non-trainable params: 0\n",
      "----------------------------------------------------------------\n",
      "Input size (MB): 0.00\n",
      "Forward/backward pass size (MB): 0.24\n",
      "Params size (MB): 0.10\n",
      "Estimated Total Size (MB): 0.35\n",
      "----------------------------------------------------------------\n",
      "\n",
      "Starting Training...\n",
      "\n"
     ]
    },
    {
     "name": "stderr",
     "output_type": "stream",
     "text": [
      "Epoch 1/10: 100%|██████████| 938/938 [00:36<00:00, 25.82it/s, loss=0.380, acc=88.44%]\n"
     ]
    },
    {
     "name": "stdout",
     "output_type": "stream",
     "text": [
      "Epoch 1/10 - Loss: 0.3802, Train Acc: 88.44%, Test Acc: 97.55%\n"
     ]
    },
    {
     "name": "stderr",
     "output_type": "stream",
     "text": [
      "Epoch 2/10: 100%|██████████| 938/938 [00:35<00:00, 26.40it/s, loss=0.169, acc=94.88%]\n"
     ]
    },
    {
     "name": "stdout",
     "output_type": "stream",
     "text": [
      "Epoch 2/10 - Loss: 0.1685, Train Acc: 94.88%, Test Acc: 98.01%\n"
     ]
    },
    {
     "name": "stderr",
     "output_type": "stream",
     "text": [
      "Epoch 3/10: 100%|██████████| 938/938 [00:35<00:00, 26.48it/s, loss=0.140, acc=95.67%]\n"
     ]
    },
    {
     "name": "stdout",
     "output_type": "stream",
     "text": [
      "Epoch 3/10 - Loss: 0.1399, Train Acc: 95.67%, Test Acc: 98.36%\n"
     ]
    },
    {
     "name": "stderr",
     "output_type": "stream",
     "text": [
      "Epoch 4/10: 100%|██████████| 938/938 [00:35<00:00, 26.46it/s, loss=0.127, acc=96.08%]\n"
     ]
    },
    {
     "name": "stdout",
     "output_type": "stream",
     "text": [
      "Epoch 4/10 - Loss: 0.1275, Train Acc: 96.08%, Test Acc: 98.50%\n"
     ]
    },
    {
     "name": "stderr",
     "output_type": "stream",
     "text": [
      "Epoch 5/10: 100%|██████████| 938/938 [00:35<00:00, 26.38it/s, loss=0.115, acc=96.42%]\n"
     ]
    },
    {
     "name": "stdout",
     "output_type": "stream",
     "text": [
      "Epoch 5/10 - Loss: 0.1150, Train Acc: 96.42%, Test Acc: 98.43%\n"
     ]
    },
    {
     "name": "stderr",
     "output_type": "stream",
     "text": [
      "Epoch 6/10: 100%|██████████| 938/938 [00:35<00:00, 26.20it/s, loss=0.109, acc=96.65%]\n"
     ]
    },
    {
     "name": "stdout",
     "output_type": "stream",
     "text": [
      "Epoch 6/10 - Loss: 0.1092, Train Acc: 96.65%, Test Acc: 98.42%\n"
     ]
    },
    {
     "name": "stderr",
     "output_type": "stream",
     "text": [
      "Epoch 7/10: 100%|██████████| 938/938 [00:35<00:00, 26.23it/s, loss=0.103, acc=96.76%]\n"
     ]
    },
    {
     "name": "stdout",
     "output_type": "stream",
     "text": [
      "Epoch 7/10 - Loss: 0.1034, Train Acc: 96.76%, Test Acc: 98.67%\n"
     ]
    },
    {
     "name": "stderr",
     "output_type": "stream",
     "text": [
      "Epoch 8/10: 100%|██████████| 938/938 [00:35<00:00, 26.37it/s, loss=0.095, acc=97.03%]\n"
     ]
    },
    {
     "name": "stdout",
     "output_type": "stream",
     "text": [
      "Epoch 8/10 - Loss: 0.0952, Train Acc: 97.03%, Test Acc: 98.82%\n"
     ]
    },
    {
     "name": "stderr",
     "output_type": "stream",
     "text": [
      "Epoch 9/10: 100%|██████████| 938/938 [00:35<00:00, 26.27it/s, loss=0.093, acc=97.12%]\n"
     ]
    },
    {
     "name": "stdout",
     "output_type": "stream",
     "text": [
      "Epoch 9/10 - Loss: 0.0934, Train Acc: 97.12%, Test Acc: 98.65%\n"
     ]
    },
    {
     "name": "stderr",
     "output_type": "stream",
     "text": [
      "Epoch 10/10: 100%|██████████| 938/938 [00:36<00:00, 25.69it/s, loss=0.091, acc=97.15%]\n"
     ]
    },
    {
     "name": "stdout",
     "output_type": "stream",
     "text": [
      "Epoch 10/10 - Loss: 0.0911, Train Acc: 97.15%, Test Acc: 98.77%\n",
      "\n",
      "Testing batch size: 128\n",
      "\n",
      "Model Summary:\n",
      "----------------------------------------------------------------\n",
      "        Layer (type)               Output Shape         Param #\n",
      "================================================================\n",
      "            Conv2d-1            [-1, 8, 28, 28]              80\n",
      "       BatchNorm2d-2            [-1, 8, 28, 28]              16\n",
      "              ReLU-3            [-1, 8, 28, 28]               0\n",
      "         MaxPool2d-4            [-1, 8, 14, 14]               0\n",
      "            Conv2d-5           [-1, 16, 14, 14]           1,168\n",
      "       BatchNorm2d-6           [-1, 16, 14, 14]              32\n",
      "              ReLU-7           [-1, 16, 14, 14]               0\n",
      "         MaxPool2d-8             [-1, 16, 7, 7]               0\n",
      "           Dropout-9                  [-1, 784]               0\n",
      "           Linear-10                   [-1, 32]          25,120\n",
      "             ReLU-11                   [-1, 32]               0\n",
      "          Dropout-12                   [-1, 32]               0\n",
      "           Linear-13                   [-1, 10]             330\n",
      "================================================================\n",
      "Total params: 26,746\n",
      "Trainable params: 26,746\n",
      "Non-trainable params: 0\n",
      "----------------------------------------------------------------\n",
      "Input size (MB): 0.00\n",
      "Forward/backward pass size (MB): 0.24\n",
      "Params size (MB): 0.10\n",
      "Estimated Total Size (MB): 0.35\n",
      "----------------------------------------------------------------\n",
      "\n",
      "Starting Training...\n",
      "\n"
     ]
    },
    {
     "name": "stderr",
     "output_type": "stream",
     "text": [
      "Epoch 1/10: 100%|██████████| 469/469 [00:33<00:00, 14.01it/s, loss=0.435, acc=86.84%]\n"
     ]
    },
    {
     "name": "stdout",
     "output_type": "stream",
     "text": [
      "Epoch 1/10 - Loss: 0.4346, Train Acc: 86.84%, Test Acc: 97.36%\n"
     ]
    },
    {
     "name": "stderr",
     "output_type": "stream",
     "text": [
      "Epoch 2/10: 100%|██████████| 469/469 [00:32<00:00, 14.61it/s, loss=0.165, acc=94.95%]\n"
     ]
    },
    {
     "name": "stdout",
     "output_type": "stream",
     "text": [
      "Epoch 2/10 - Loss: 0.1654, Train Acc: 94.95%, Test Acc: 98.09%\n"
     ]
    },
    {
     "name": "stderr",
     "output_type": "stream",
     "text": [
      "Epoch 3/10: 100%|██████████| 469/469 [00:32<00:00, 14.25it/s, loss=0.139, acc=95.72%]\n"
     ]
    },
    {
     "name": "stdout",
     "output_type": "stream",
     "text": [
      "Epoch 3/10 - Loss: 0.1388, Train Acc: 95.72%, Test Acc: 98.31%\n"
     ]
    },
    {
     "name": "stderr",
     "output_type": "stream",
     "text": [
      "Epoch 4/10: 100%|██████████| 469/469 [00:32<00:00, 14.55it/s, loss=0.122, acc=96.28%]\n"
     ]
    },
    {
     "name": "stdout",
     "output_type": "stream",
     "text": [
      "Epoch 4/10 - Loss: 0.1224, Train Acc: 96.28%, Test Acc: 98.40%\n"
     ]
    },
    {
     "name": "stderr",
     "output_type": "stream",
     "text": [
      "Epoch 5/10: 100%|██████████| 469/469 [00:32<00:00, 14.35it/s, loss=0.114, acc=96.49%]\n"
     ]
    },
    {
     "name": "stdout",
     "output_type": "stream",
     "text": [
      "Epoch 5/10 - Loss: 0.1144, Train Acc: 96.49%, Test Acc: 98.48%\n"
     ]
    },
    {
     "name": "stderr",
     "output_type": "stream",
     "text": [
      "Epoch 6/10: 100%|██████████| 469/469 [00:32<00:00, 14.51it/s, loss=0.105, acc=96.80%]\n"
     ]
    },
    {
     "name": "stdout",
     "output_type": "stream",
     "text": [
      "Epoch 6/10 - Loss: 0.1053, Train Acc: 96.80%, Test Acc: 98.51%\n"
     ]
    },
    {
     "name": "stderr",
     "output_type": "stream",
     "text": [
      "Epoch 7/10: 100%|██████████| 469/469 [00:32<00:00, 14.52it/s, loss=0.099, acc=96.92%]\n"
     ]
    },
    {
     "name": "stdout",
     "output_type": "stream",
     "text": [
      "Epoch 7/10 - Loss: 0.0987, Train Acc: 96.92%, Test Acc: 98.65%\n"
     ]
    },
    {
     "name": "stderr",
     "output_type": "stream",
     "text": [
      "Epoch 8/10: 100%|██████████| 469/469 [00:32<00:00, 14.25it/s, loss=0.098, acc=96.99%]\n"
     ]
    },
    {
     "name": "stdout",
     "output_type": "stream",
     "text": [
      "Epoch 8/10 - Loss: 0.0975, Train Acc: 96.99%, Test Acc: 98.55%\n"
     ]
    },
    {
     "name": "stderr",
     "output_type": "stream",
     "text": [
      "Epoch 9/10: 100%|██████████| 469/469 [00:32<00:00, 14.56it/s, loss=0.092, acc=97.16%]\n"
     ]
    },
    {
     "name": "stdout",
     "output_type": "stream",
     "text": [
      "Epoch 9/10 - Loss: 0.0917, Train Acc: 97.16%, Test Acc: 98.70%\n"
     ]
    },
    {
     "name": "stderr",
     "output_type": "stream",
     "text": [
      "Epoch 10/10: 100%|██████████| 469/469 [00:32<00:00, 14.26it/s, loss=0.088, acc=97.24%]\n"
     ]
    },
    {
     "name": "stdout",
     "output_type": "stream",
     "text": [
      "Epoch 10/10 - Loss: 0.0878, Train Acc: 97.24%, Test Acc: 98.68%\n",
      "\n",
      "Testing batch size: 256\n",
      "\n",
      "Model Summary:\n",
      "----------------------------------------------------------------\n",
      "        Layer (type)               Output Shape         Param #\n",
      "================================================================\n",
      "            Conv2d-1            [-1, 8, 28, 28]              80\n",
      "       BatchNorm2d-2            [-1, 8, 28, 28]              16\n",
      "              ReLU-3            [-1, 8, 28, 28]               0\n",
      "         MaxPool2d-4            [-1, 8, 14, 14]               0\n",
      "            Conv2d-5           [-1, 16, 14, 14]           1,168\n",
      "       BatchNorm2d-6           [-1, 16, 14, 14]              32\n",
      "              ReLU-7           [-1, 16, 14, 14]               0\n",
      "         MaxPool2d-8             [-1, 16, 7, 7]               0\n",
      "           Dropout-9                  [-1, 784]               0\n",
      "           Linear-10                   [-1, 32]          25,120\n",
      "             ReLU-11                   [-1, 32]               0\n",
      "          Dropout-12                   [-1, 32]               0\n",
      "           Linear-13                   [-1, 10]             330\n",
      "================================================================\n",
      "Total params: 26,746\n",
      "Trainable params: 26,746\n",
      "Non-trainable params: 0\n",
      "----------------------------------------------------------------\n",
      "Input size (MB): 0.00\n",
      "Forward/backward pass size (MB): 0.24\n",
      "Params size (MB): 0.10\n",
      "Estimated Total Size (MB): 0.35\n",
      "----------------------------------------------------------------\n",
      "\n",
      "Starting Training...\n",
      "\n"
     ]
    },
    {
     "name": "stderr",
     "output_type": "stream",
     "text": [
      "Epoch 1/10: 100%|██████████| 235/235 [00:30<00:00,  7.73it/s, loss=0.576, acc=82.42%]\n"
     ]
    },
    {
     "name": "stdout",
     "output_type": "stream",
     "text": [
      "Epoch 1/10 - Loss: 0.5762, Train Acc: 82.42%, Test Acc: 96.75%\n"
     ]
    },
    {
     "name": "stderr",
     "output_type": "stream",
     "text": [
      "Epoch 2/10: 100%|██████████| 235/235 [00:30<00:00,  7.79it/s, loss=0.198, acc=93.98%]\n"
     ]
    },
    {
     "name": "stdout",
     "output_type": "stream",
     "text": [
      "Epoch 2/10 - Loss: 0.1981, Train Acc: 93.98%, Test Acc: 97.71%\n"
     ]
    },
    {
     "name": "stderr",
     "output_type": "stream",
     "text": [
      "Epoch 3/10: 100%|██████████| 235/235 [00:30<00:00,  7.76it/s, loss=0.154, acc=95.42%]\n"
     ]
    },
    {
     "name": "stdout",
     "output_type": "stream",
     "text": [
      "Epoch 3/10 - Loss: 0.1543, Train Acc: 95.42%, Test Acc: 98.20%\n"
     ]
    },
    {
     "name": "stderr",
     "output_type": "stream",
     "text": [
      "Epoch 4/10: 100%|██████████| 235/235 [00:29<00:00,  7.84it/s, loss=0.135, acc=95.90%]\n"
     ]
    },
    {
     "name": "stdout",
     "output_type": "stream",
     "text": [
      "Epoch 4/10 - Loss: 0.1349, Train Acc: 95.90%, Test Acc: 98.27%\n"
     ]
    },
    {
     "name": "stderr",
     "output_type": "stream",
     "text": [
      "Epoch 5/10: 100%|██████████| 235/235 [00:30<00:00,  7.78it/s, loss=0.121, acc=96.32%]\n"
     ]
    },
    {
     "name": "stdout",
     "output_type": "stream",
     "text": [
      "Epoch 5/10 - Loss: 0.1214, Train Acc: 96.32%, Test Acc: 98.41%\n"
     ]
    },
    {
     "name": "stderr",
     "output_type": "stream",
     "text": [
      "Epoch 6/10: 100%|██████████| 235/235 [00:30<00:00,  7.80it/s, loss=0.112, acc=96.61%]\n"
     ]
    },
    {
     "name": "stdout",
     "output_type": "stream",
     "text": [
      "Epoch 6/10 - Loss: 0.1123, Train Acc: 96.61%, Test Acc: 98.54%\n"
     ]
    },
    {
     "name": "stderr",
     "output_type": "stream",
     "text": [
      "Epoch 7/10: 100%|██████████| 235/235 [00:28<00:00,  8.18it/s, loss=0.107, acc=96.69%]\n"
     ]
    },
    {
     "name": "stdout",
     "output_type": "stream",
     "text": [
      "Epoch 7/10 - Loss: 0.1071, Train Acc: 96.69%, Test Acc: 98.58%\n"
     ]
    },
    {
     "name": "stderr",
     "output_type": "stream",
     "text": [
      "Epoch 8/10: 100%|██████████| 235/235 [00:29<00:00,  7.88it/s, loss=0.100, acc=97.01%]\n"
     ]
    },
    {
     "name": "stdout",
     "output_type": "stream",
     "text": [
      "Epoch 8/10 - Loss: 0.1002, Train Acc: 97.01%, Test Acc: 98.69%\n"
     ]
    },
    {
     "name": "stderr",
     "output_type": "stream",
     "text": [
      "Epoch 9/10: 100%|██████████| 235/235 [00:29<00:00,  7.91it/s, loss=0.097, acc=96.89%]\n"
     ]
    },
    {
     "name": "stdout",
     "output_type": "stream",
     "text": [
      "Epoch 9/10 - Loss: 0.0975, Train Acc: 96.89%, Test Acc: 98.52%\n"
     ]
    },
    {
     "name": "stderr",
     "output_type": "stream",
     "text": [
      "Epoch 10/10: 100%|██████████| 235/235 [00:29<00:00,  7.84it/s, loss=0.092, acc=97.15%]\n"
     ]
    },
    {
     "name": "stdout",
     "output_type": "stream",
     "text": [
      "Epoch 10/10 - Loss: 0.0924, Train Acc: 97.15%, Test Acc: 98.69%\n"
     ]
    },
    {
     "data": {
      "image/png": "[encoded data removed]",
      "text/plain": [
       "<Figure size 1500x500 with 2 Axes>"
      ]
     },
     "metadata": {},
     "output_type": "display_data"
    },
    {
     "name": "stdout",
     "output_type": "stream",
     "text": [
      "\n",
      "Summary of results:\n",
      "Batch Size | Train Acc | Test Acc\n",
      "-----------------------------------\n",
      "    16     |   97.59   |  98.95  \n",
      "    32     |   97.19   |  98.90  \n",
      "    64     |   97.15   |  98.77  \n",
      "   128     |   97.24   |  98.68  \n",
      "   256     |   97.15   |  98.69  \n"
     ]
    }
   ],
   "source": [
    "# use model-2\n",
    "\n",
    "if __name__ == '__main__':\n",
    "    params = HyperParameters()\n",
    "    batch_size_analysis(params) "
   ]
  },
  {
   "cell_type": "markdown",
   "metadata": {},
   "source": [
    "---"
   ]
  },
  {
   "cell_type": "markdown",
   "metadata": {},
   "source": [
    "## use updated model architecture "
   ]
  },
  {
   "cell_type": "code",
   "execution_count": 13,
   "metadata": {},
   "outputs": [],
   "source": [
    "class TinyCNN(nn.Module):\n",
    "    def __init__(self, dropout_rate):\n",
    "        super(TinyCNN, self).__init__()\n",
    "        \n",
    "        # First Convolutional Block - No BatchNorm or MaxPool\n",
    "        self.conv1 = nn.Sequential(\n",
    "            nn.Conv2d(1, 4, kernel_size=3, padding=1),  # RF: 3x3\n",
    "            nn.ReLU(),\n",
    "            nn.Conv2d(4, 8, kernel_size=3, padding=1),  # RF: 5x5\n",
    "            nn.ReLU()\n",
    "        )\n",
    "        \n",
    "        # Second Convolutional Block - Add BatchNorm and MaxPool\n",
    "        self.conv2 = nn.Sequential(\n",
    "            nn.Conv2d(8, 12, kernel_size=3, padding=1),  # RF: 7x7\n",
    "            nn.BatchNorm2d(12),\n",
    "            nn.ReLU(),\n",
    "            nn.Conv2d(12, 16, kernel_size=3, padding=1),  # RF: 9x9\n",
    "            nn.BatchNorm2d(16),\n",
    "            nn.ReLU(),\n",
    "            nn.MaxPool2d(2)  # RF: 10x10, Size: 14x14\n",
    "        )\n",
    "        \n",
    "        # Third Convolutional Block\n",
    "        self.conv3 = nn.Sequential(\n",
    "            nn.Conv2d(16, 20, kernel_size=3, padding=1),  # RF: 14x14\n",
    "            nn.BatchNorm2d(20),\n",
    "            nn.ReLU(),\n",
    "            nn.Dropout2d(dropout_rate),\n",
    "            nn.Conv2d(20, 16, kernel_size=3, padding=1),  # RF: 18x18\n",
    "            nn.BatchNorm2d(16),\n",
    "            nn.ReLU(),\n",
    "            nn.MaxPool2d(2)  # RF: 20x20, Size: 7x7\n",
    "        )\n",
    "        \n",
    "        # Fourth Convolutional Block\n",
    "        self.conv4 = nn.Sequential(\n",
    "            nn.Conv2d(16, 16, kernel_size=3, padding=1),  # RF: 28x28\n",
    "            nn.BatchNorm2d(16),\n",
    "            nn.ReLU(),\n",
    "            nn.Dropout2d(dropout_rate),\n",
    "            nn.Conv2d(16, 16, kernel_size=1),  # RF: 28x28 (1x1 conv)\n",
    "            nn.ReLU()\n",
    "        )\n",
    "        \n",
    "        # Single Fully Connected Layer\n",
    "        self.fc = nn.Sequential(\n",
    "            nn.Dropout(dropout_rate),\n",
    "            nn.Linear(16 * 7 * 7, 10)\n",
    "        )\n",
    "\n",
    "    def forward(self, x):\n",
    "        x = self.conv1(x)\n",
    "        x = self.conv2(x)\n",
    "        x = self.conv3(x)\n",
    "        x = self.conv4(x)\n",
    "        x = x.view(x.size(0), -1)\n",
    "        x = self.fc(x)\n",
    "        return x"
   ]
  },
  {
   "cell_type": "code",
   "execution_count": null,
   "metadata": {},
   "outputs": [],
   "source": [
    "def train_model(params):\n",
    "    # Set random seed for reproducibility\n",
    "    torch.manual_seed(params.random_seed)\n",
    "    \n",
    "    # Data transformations\n",
    "    transform = transforms.Compose([\n",
    "        transforms.ToTensor(),\n",
    "        transforms.Normalize((0.1307,), (0.3081,))\n",
    "    ])\n",
    "    \n",
    "    # Load MNIST dataset\n",
    "    train_dataset = datasets.MNIST('./data', train=True, download=True, transform=transform)\n",
    "    test_dataset = datasets.MNIST('./data', train=False, transform=transform)\n",
    "    \n",
    "    # Create data loaders\n",
    "    train_loader = DataLoader(train_dataset, batch_size=params.batch_size, shuffle=True)\n",
    "    test_loader = DataLoader(test_dataset, batch_size=params.batch_size, shuffle=False)\n",
    "    \n",
    "    # Initialize model, loss function, and optimizer\n",
    "    device = torch.device('cuda' if torch.cuda.is_available() else 'cpu')\n",
    "    model = TinyCNN(params.dropout_rate).to(device)\n",
    "    \n",
    "    # Print model summary\n",
    "    print(\"\\nModel Summary:\")\n",
    "    summary(model, input_size=(1, 28, 28))\n",
    "    print(\"\\nStarting Training...\\n\")\n",
    "    \n",
    "    criterion = nn.CrossEntropyLoss()\n",
    "    optimizer = optim.Adam(model.parameters(), lr=params.learning_rate)\n",
    "    \n",
    "    # Lists to store metrics\n",
    "    train_losses = []\n",
    "    train_accuracies = []\n",
    "    test_accuracies = []\n",
    "    \n",
    "    # Track best model\n",
    "    best_test_accuracy = 0.0\n",
    "    best_model_state = None\n",
    "    best_epoch = 0\n",
    "    \n",
    "    # Training loop\n",
    "    for epoch in range(params.num_epochs):\n",
    "        model.train()\n",
    "        running_loss = 0.0\n",
    "        correct = 0\n",
    "        total = 0\n",
    "        \n",
    "        # Training progress bar\n",
    "        progress_bar = tqdm(train_loader, desc=f'Epoch {epoch+1}/{params.num_epochs}')\n",
    "        \n",
    "        for images, labels in progress_bar:\n",
    "            images, labels = images.to(device), labels.to(device)\n",
    "            \n",
    "            optimizer.zero_grad()\n",
    "            outputs = model(images)\n",
    "            loss = criterion(outputs, labels)\n",
    "            loss.backward()\n",
    "            optimizer.step()\n",
    "            \n",
    "            running_loss += loss.item()\n",
    "            _, predicted = outputs.max(1)\n",
    "            total += labels.size(0)\n",
    "            correct += predicted.eq(labels).sum().item()\n",
    "            \n",
    "            # Update progress bar\n",
    "            progress_bar.set_postfix({\n",
    "                'loss': f'{running_loss/len(progress_bar):.3f}',\n",
    "                'acc': f'{100.*correct/total:.2f}%'\n",
    "            })\n",
    "        \n",
    "        # Calculate training metrics\n",
    "        epoch_loss = running_loss / len(train_loader)\n",
    "        train_accuracy = 100. * correct / total\n",
    "        train_losses.append(epoch_loss)\n",
    "        train_accuracies.append(train_accuracy)\n",
    "        \n",
    "        # Evaluate on test set\n",
    "        test_accuracy = evaluate_model(model, test_loader, device)\n",
    "        test_accuracies.append(test_accuracy)\n",
    "        \n",
    "        # Save best model\n",
    "        if test_accuracy > best_test_accuracy:\n",
    "            best_test_accuracy = test_accuracy\n",
    "            best_model_state = model.state_dict().copy()\n",
    "            best_epoch = epoch\n",
    "            print(f'New best model saved at epoch {epoch+1} with test accuracy: {test_accuracy:.2f}%')    \n",
    "            # print(f'New best model saved with test accuracy: {test_accuracy:.2f}%')\n",
    "        \n",
    "        # Modified metrics printing\n",
    "        print(f'Epoch {epoch+1}/{params.num_epochs} - Loss: {epoch_loss:.4f}, Train Acc: {train_accuracy:.2f}%, Test Acc: {test_accuracy:.2f}%')\n",
    "    \n",
    "    # Load best model before returning\n",
    "    model.load_state_dict(best_model_state)\n",
    "    print(f'\\nLoaded best model with test accuracy: {best_test_accuracy:.2f}%')\n",
    "    \n",
    "    # Save the best model to disk (modified)\n",
    "    torch.save(\n",
    "        best_model_state,  # Save only the model state dict\n",
    "        'best_mnist_model.pth'\n",
    "    )\n",
    "    \n",
    "    return model, train_losses, train_accuracies, test_accuracies"
   ]
  },
  {
   "cell_type": "code",
   "execution_count": 15,
   "metadata": {},
   "outputs": [],
   "source": [
    "def evaluate_model(model, data_loader, device):\n",
    "    model.eval()\n",
    "    correct = 0\n",
    "    total = 0\n",
    "    \n",
    "    with torch.no_grad():\n",
    "        for images, labels in data_loader:\n",
    "            images, labels = images.to(device), labels.to(device)\n",
    "            outputs = model(images)\n",
    "            _, predicted = outputs.max(1)\n",
    "            total += labels.size(0)\n",
    "            correct += predicted.eq(labels).sum().item()\n",
    "    \n",
    "    return 100. * correct / total"
   ]
  },
  {
   "cell_type": "code",
   "execution_count": 16,
   "metadata": {},
   "outputs": [],
   "source": [
    "def load_and_evaluate_model(model_path, params):\n",
    "    device = torch.device('cuda' if torch.cuda.is_available() else 'cpu')\n",
    "    \n",
    "    # Initialize model\n",
    "    model = TinyCNN(params.dropout_rate).to(device)\n",
    "    \n",
    "    # Load saved model (modified)\n",
    "    model_state = torch.load(model_path)\n",
    "    model.load_state_dict(model_state)\n",
    "    print(f\"Loaded model weights from {model_path}\")\n",
    "    \n",
    "    # Prepare test data\n",
    "    transform = transforms.Compose([\n",
    "        transforms.ToTensor(),\n",
    "        transforms.Normalize((0.1307,), (0.3081,))\n",
    "    ])\n",
    "    \n",
    "    test_dataset = datasets.MNIST('./data', train=False, transform=transform)\n",
    "    test_loader = DataLoader(test_dataset, batch_size=params.batch_size, shuffle=False)\n",
    "    \n",
    "    # Evaluate\n",
    "    test_accuracy = evaluate_model(model, test_loader, device)\n",
    "    print(f'Current test accuracy: {test_accuracy:.2f}%')\n",
    "    \n",
    "    return model, test_accuracy"
   ]
  },
  {
   "cell_type": "code",
   "execution_count": 17,
   "metadata": {},
   "outputs": [],
   "source": [
    "# Hyperparameters class for easy tuning\n",
    "class HyperParameters:\n",
    "    def __init__(self):\n",
    "        self.num_epochs = 20\n",
    "        self.batch_size = 512\n",
    "        self.learning_rate = 0.0005\n",
    "        self.dropout_rate = 0.25\n",
    "        self.num_classes = 10\n",
    "        self.momentum = 0.9\n",
    "        self.random_seed = 42"
   ]
  },
  {
   "cell_type": "code",
   "execution_count": 18,
   "metadata": {},
   "outputs": [
    {
     "name": "stdout",
     "output_type": "stream",
     "text": [
      "\n",
      "Model Summary:\n",
      "----------------------------------------------------------------\n",
      "        Layer (type)               Output Shape         Param #\n",
      "================================================================\n",
      "            Conv2d-1            [-1, 4, 28, 28]              40\n",
      "              ReLU-2            [-1, 4, 28, 28]               0\n",
      "            Conv2d-3            [-1, 8, 28, 28]             296\n",
      "              ReLU-4            [-1, 8, 28, 28]               0\n",
      "            Conv2d-5           [-1, 12, 28, 28]             876\n",
      "       BatchNorm2d-6           [-1, 12, 28, 28]              24\n",
      "              ReLU-7           [-1, 12, 28, 28]               0\n",
      "            Conv2d-8           [-1, 16, 28, 28]           1,744\n",
      "       BatchNorm2d-9           [-1, 16, 28, 28]              32\n",
      "             ReLU-10           [-1, 16, 28, 28]               0\n",
      "        MaxPool2d-11           [-1, 16, 14, 14]               0\n",
      "           Conv2d-12           [-1, 20, 14, 14]           2,900\n",
      "      BatchNorm2d-13           [-1, 20, 14, 14]              40\n",
      "             ReLU-14           [-1, 20, 14, 14]               0\n",
      "        Dropout2d-15           [-1, 20, 14, 14]               0\n",
      "           Conv2d-16           [-1, 16, 14, 14]           2,896\n",
      "      BatchNorm2d-17           [-1, 16, 14, 14]              32\n",
      "             ReLU-18           [-1, 16, 14, 14]               0\n",
      "        MaxPool2d-19             [-1, 16, 7, 7]               0\n",
      "           Conv2d-20             [-1, 16, 7, 7]           2,320\n",
      "      BatchNorm2d-21             [-1, 16, 7, 7]              32\n",
      "             ReLU-22             [-1, 16, 7, 7]               0\n",
      "        Dropout2d-23             [-1, 16, 7, 7]               0\n",
      "           Conv2d-24             [-1, 16, 7, 7]             272\n",
      "             ReLU-25             [-1, 16, 7, 7]               0\n",
      "          Dropout-26                  [-1, 784]               0\n",
      "           Linear-27                   [-1, 10]           7,850\n",
      "================================================================\n",
      "Total params: 19,354\n",
      "Trainable params: 19,354\n",
      "Non-trainable params: 0\n",
      "----------------------------------------------------------------\n",
      "Input size (MB): 0.00\n",
      "Forward/backward pass size (MB): 0.91\n",
      "Params size (MB): 0.07\n",
      "Estimated Total Size (MB): 0.99\n",
      "----------------------------------------------------------------\n",
      "\n",
      "Starting Training...\n",
      "\n"
     ]
    },
    {
     "name": "stderr",
     "output_type": "stream",
     "text": [
      "Epoch 1/20: 100%|██████████| 118/118 [00:13<00:00,  8.70it/s, loss=1.062, acc=75.07%]\n"
     ]
    },
    {
     "name": "stdout",
     "output_type": "stream",
     "text": [
      "Epoch 1/20 - Loss: 1.0616, Train Acc: 75.07%, Test Acc: 95.01%\n"
     ]
    },
    {
     "name": "stderr",
     "output_type": "stream",
     "text": [
      "Epoch 2/20: 100%|██████████| 118/118 [00:14<00:00,  8.22it/s, loss=0.196, acc=94.79%]\n"
     ]
    },
    {
     "name": "stdout",
     "output_type": "stream",
     "text": [
      "Epoch 2/20 - Loss: 0.1962, Train Acc: 94.79%, Test Acc: 97.33%\n"
     ]
    },
    {
     "name": "stderr",
     "output_type": "stream",
     "text": [
      "Epoch 3/20: 100%|██████████| 118/118 [00:14<00:00,  8.41it/s, loss=0.121, acc=96.53%]\n"
     ]
    },
    {
     "name": "stdout",
     "output_type": "stream",
     "text": [
      "Epoch 3/20 - Loss: 0.1215, Train Acc: 96.53%, Test Acc: 98.10%\n"
     ]
    },
    {
     "name": "stderr",
     "output_type": "stream",
     "text": [
      "Epoch 4/20: 100%|██████████| 118/118 [00:13<00:00,  8.43it/s, loss=0.093, acc=97.22%]\n"
     ]
    },
    {
     "name": "stdout",
     "output_type": "stream",
     "text": [
      "Epoch 4/20 - Loss: 0.0932, Train Acc: 97.22%, Test Acc: 98.46%\n"
     ]
    },
    {
     "name": "stderr",
     "output_type": "stream",
     "text": [
      "Epoch 5/20: 100%|██████████| 118/118 [00:13<00:00,  8.64it/s, loss=0.080, acc=97.66%]\n"
     ]
    },
    {
     "name": "stdout",
     "output_type": "stream",
     "text": [
      "Epoch 5/20 - Loss: 0.0796, Train Acc: 97.66%, Test Acc: 98.57%\n"
     ]
    },
    {
     "name": "stderr",
     "output_type": "stream",
     "text": [
      "Epoch 6/20: 100%|██████████| 118/118 [00:13<00:00,  8.69it/s, loss=0.070, acc=97.89%]\n"
     ]
    },
    {
     "name": "stdout",
     "output_type": "stream",
     "text": [
      "Epoch 6/20 - Loss: 0.0703, Train Acc: 97.89%, Test Acc: 98.72%\n"
     ]
    },
    {
     "name": "stderr",
     "output_type": "stream",
     "text": [
      "Epoch 7/20: 100%|██████████| 118/118 [00:13<00:00,  8.69it/s, loss=0.064, acc=98.09%]\n"
     ]
    },
    {
     "name": "stdout",
     "output_type": "stream",
     "text": [
      "Epoch 7/20 - Loss: 0.0639, Train Acc: 98.09%, Test Acc: 98.75%\n"
     ]
    },
    {
     "name": "stderr",
     "output_type": "stream",
     "text": [
      "Epoch 8/20: 100%|██████████| 118/118 [00:13<00:00,  8.55it/s, loss=0.058, acc=98.22%]\n"
     ]
    },
    {
     "name": "stdout",
     "output_type": "stream",
     "text": [
      "Epoch 8/20 - Loss: 0.0583, Train Acc: 98.22%, Test Acc: 98.75%\n"
     ]
    },
    {
     "name": "stderr",
     "output_type": "stream",
     "text": [
      "Epoch 9/20: 100%|██████████| 118/118 [00:13<00:00,  8.55it/s, loss=0.057, acc=98.26%]\n"
     ]
    },
    {
     "name": "stdout",
     "output_type": "stream",
     "text": [
      "Epoch 9/20 - Loss: 0.0566, Train Acc: 98.26%, Test Acc: 98.82%\n"
     ]
    },
    {
     "name": "stderr",
     "output_type": "stream",
     "text": [
      "Epoch 10/20: 100%|██████████| 118/118 [00:13<00:00,  8.63it/s, loss=0.052, acc=98.47%]\n"
     ]
    },
    {
     "name": "stdout",
     "output_type": "stream",
     "text": [
      "Epoch 10/20 - Loss: 0.0520, Train Acc: 98.47%, Test Acc: 98.95%\n"
     ]
    },
    {
     "name": "stderr",
     "output_type": "stream",
     "text": [
      "Epoch 11/20: 100%|██████████| 118/118 [00:13<00:00,  8.66it/s, loss=0.049, acc=98.52%]\n"
     ]
    },
    {
     "name": "stdout",
     "output_type": "stream",
     "text": [
      "Epoch 11/20 - Loss: 0.0489, Train Acc: 98.52%, Test Acc: 98.86%\n"
     ]
    },
    {
     "name": "stderr",
     "output_type": "stream",
     "text": [
      "Epoch 12/20: 100%|██████████| 118/118 [00:13<00:00,  8.54it/s, loss=0.046, acc=98.59%]\n"
     ]
    },
    {
     "name": "stdout",
     "output_type": "stream",
     "text": [
      "Epoch 12/20 - Loss: 0.0463, Train Acc: 98.59%, Test Acc: 98.99%\n"
     ]
    },
    {
     "name": "stderr",
     "output_type": "stream",
     "text": [
      "Epoch 13/20: 100%|██████████| 118/118 [00:14<00:00,  8.38it/s, loss=0.043, acc=98.65%]\n"
     ]
    },
    {
     "name": "stdout",
     "output_type": "stream",
     "text": [
      "Epoch 13/20 - Loss: 0.0430, Train Acc: 98.65%, Test Acc: 99.10%\n"
     ]
    },
    {
     "name": "stderr",
     "output_type": "stream",
     "text": [
      "Epoch 14/20: 100%|██████████| 118/118 [00:14<00:00,  8.36it/s, loss=0.041, acc=98.73%]\n"
     ]
    },
    {
     "name": "stdout",
     "output_type": "stream",
     "text": [
      "Epoch 14/20 - Loss: 0.0412, Train Acc: 98.73%, Test Acc: 99.13%\n"
     ]
    },
    {
     "name": "stderr",
     "output_type": "stream",
     "text": [
      "Epoch 15/20: 100%|██████████| 118/118 [00:14<00:00,  8.22it/s, loss=0.040, acc=98.78%]\n"
     ]
    },
    {
     "name": "stdout",
     "output_type": "stream",
     "text": [
      "Epoch 15/20 - Loss: 0.0402, Train Acc: 98.78%, Test Acc: 99.12%\n"
     ]
    },
    {
     "name": "stderr",
     "output_type": "stream",
     "text": [
      "Epoch 16/20: 100%|██████████| 118/118 [00:14<00:00,  8.35it/s, loss=0.041, acc=98.68%]\n"
     ]
    },
    {
     "name": "stdout",
     "output_type": "stream",
     "text": [
      "Epoch 16/20 - Loss: 0.0413, Train Acc: 98.68%, Test Acc: 99.10%\n"
     ]
    },
    {
     "name": "stderr",
     "output_type": "stream",
     "text": [
      "Epoch 17/20: 100%|██████████| 118/118 [00:14<00:00,  8.11it/s, loss=0.038, acc=98.75%]\n"
     ]
    },
    {
     "name": "stdout",
     "output_type": "stream",
     "text": [
      "Epoch 17/20 - Loss: 0.0380, Train Acc: 98.75%, Test Acc: 99.14%\n"
     ]
    },
    {
     "name": "stderr",
     "output_type": "stream",
     "text": [
      "Epoch 18/20: 100%|██████████| 118/118 [00:14<00:00,  8.30it/s, loss=0.037, acc=98.83%]\n"
     ]
    },
    {
     "name": "stdout",
     "output_type": "stream",
     "text": [
      "Epoch 18/20 - Loss: 0.0367, Train Acc: 98.83%, Test Acc: 99.06%\n"
     ]
    },
    {
     "name": "stderr",
     "output_type": "stream",
     "text": [
      "Epoch 19/20: 100%|██████████| 118/118 [00:14<00:00,  8.12it/s, loss=0.035, acc=98.91%]\n"
     ]
    },
    {
     "name": "stdout",
     "output_type": "stream",
     "text": [
      "Epoch 19/20 - Loss: 0.0351, Train Acc: 98.91%, Test Acc: 99.18%\n"
     ]
    },
    {
     "name": "stderr",
     "output_type": "stream",
     "text": [
      "Epoch 20/20: 100%|██████████| 118/118 [00:14<00:00,  8.27it/s, loss=0.035, acc=98.88%]\n"
     ]
    },
    {
     "name": "stdout",
     "output_type": "stream",
     "text": [
      "Epoch 20/20 - Loss: 0.0352, Train Acc: 98.88%, Test Acc: 99.17%\n",
      "\n",
      "Loaded best model with test accuracy: 99.18%\n"
     ]
    }
   ],
   "source": [
    "params = HyperParameters()\n",
    "    \n",
    "# Train the model\n",
    "model, train_losses, train_accuracies, test_accuracies = train_model(params)"
   ]
  },
  {
   "cell_type": "code",
   "execution_count": 19,
   "metadata": {},
   "outputs": [
    {
     "data": {
      "text/plain": [
       "99.17"
      ]
     },
     "execution_count": 19,
     "metadata": {},
     "output_type": "execute_result"
    }
   ],
   "source": [
    "evaluate_model(model, test_loader, device)"
   ]
  },
  {
   "cell_type": "code",
   "execution_count": null,
   "metadata": {},
   "outputs": [],
   "source": []
  },
  {
   "cell_type": "markdown",
   "metadata": {},
   "source": [
    "###"
   ]
  }
 ],
 "metadata": {
  "kernelspec": {
   "display_name": "era_gpu",
   "language": "python",
   "name": "era_gpu"
  },
  "language_info": {
   "codemirror_mode": {
    "name": "ipython",
    "version": 3
   },
   "file_extension": ".py",
   "mimetype": "text/x-python",
   "name": "python",
   "nbconvert_exporter": "python",
   "pygments_lexer": "ipython3",
   "version": "3.11.7"
  }
 },
 "nbformat": 4,
 "nbformat_minor": 2
}
